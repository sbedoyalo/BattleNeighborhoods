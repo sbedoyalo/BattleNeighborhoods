{
 "cells": [
  {
   "cell_type": "markdown",
   "metadata": {},
   "source": [
    "# The Battle of the Neighborhoods\n",
    "\n",
    "### --- Week 1 ---\n",
    "\n",
    "## Objective\n",
    "\n",
    "To show the creativity with the tools already learned along the course to solve a problem which includes locations."
   ]
  },
  {
   "cell_type": "markdown",
   "metadata": {},
   "source": [
    "## Description\n",
    "\n",
    "Nowadays, there is a substantial increment of remote work due to the fact that the society is going through a pandemic. A lot of companies have offered the possibility to their employees to work from home (mainly). However, some employees have had the idea of taking this opportunity to keep working for their employers but from other locations where in some way, could represent a better quality of life, or better personal or professional satisfaction. \n",
    "\n",
    "For example, people in Latin America that have enough level of incomes have thought that this new way of working can be a opportunity to move to another country (where english is the official language) to learn a new language. A perfect combination has arised because those people could re locate to another country without the risk of loosing their jobs.\n",
    "\n",
    "The question now is how a person that want to learn english and is looking to move to a english spoken country can find the best option?\n",
    "\n",
    "Over the internet, there are a lot of courses offered in different cities, so, the main purpose of this exercise is finding the best one taking into account the variety of venues around the course location as a decisor. \n",
    "\n",
    "**It is important to aclare that the closer the housing to the course the better for the \"new student\".**"
   ]
  },
  {
   "cell_type": "markdown",
   "metadata": {},
   "source": [
    "## Where to find the data? and How it will be used?\n",
    "\n",
    "The exercise is made for people that is looking to move to Canada or United States so, the website that is used to scrape the data of the courses will only be for USA and Canada. \n",
    "\n",
    "**The best 15 courses for each country according to the website will be considered**\n",
    "\n",
    "The URL for the Canadian courses is: <a>https://www.languageinternational.com/english-courses-canada</a>\n",
    "\n",
    "The URL for the USA courses is: <a>https://www.languageinternational.com/english-courses-usa</a>\n",
    "\n",
    "If we look at the web sites, the main page does not have the addresses of the institutes, so, the first task is finding their addresses within the website. \n",
    "\n",
    "Once all the addresses are saved in the dataframe of the courses (the structure of the dataframe will be institute, city, name, address), the next step is finding the coordinates of each institute.\n",
    "\n",
    "After having all the neccesary data of the courses with their specific addresses the next step is use Foursquare as the provider of the venues around specific locations (through the API) \n",
    "\n",
    "**Note:** the locations that are going to be used in the API are the institue ones. "
   ]
  },
  {
   "cell_type": "markdown",
   "metadata": {},
   "source": [
    "### --- End of Week 1 ---\n"
   ]
  },
  {
   "cell_type": "code",
   "execution_count": null,
   "metadata": {},
   "outputs": [],
   "source": []
  }
 ],
 "metadata": {
  "kernelspec": {
   "display_name": "Python 3",
   "language": "python",
   "name": "python3"
  },
  "language_info": {
   "codemirror_mode": {
    "name": "ipython",
    "version": 3
   },
   "file_extension": ".py",
   "mimetype": "text/x-python",
   "name": "python",
   "nbconvert_exporter": "python",
   "pygments_lexer": "ipython3",
   "version": "3.8.5"
  }
 },
 "nbformat": 4,
 "nbformat_minor": 4
}
